{
 "cells": [
  {
   "cell_type": "markdown",
   "metadata": {},
   "source": [
    "# Multiple Regression Model"
   ]
  },
  {
   "cell_type": "code",
   "execution_count": 1,
   "metadata": {},
   "outputs": [
    {
     "data": {
      "text/html": [
       "<div>\n",
       "<style scoped>\n",
       "    .dataframe tbody tr th:only-of-type {\n",
       "        vertical-align: middle;\n",
       "    }\n",
       "\n",
       "    .dataframe tbody tr th {\n",
       "        vertical-align: top;\n",
       "    }\n",
       "\n",
       "    .dataframe thead th {\n",
       "        text-align: right;\n",
       "    }\n",
       "</style>\n",
       "<table border=\"1\" class=\"dataframe\">\n",
       "  <thead>\n",
       "    <tr style=\"text-align: right;\">\n",
       "      <th></th>\n",
       "      <th>CRATER_ID</th>\n",
       "      <th>CRATER_NAME</th>\n",
       "      <th>LATITUDE_CIRCLE_IMAGE</th>\n",
       "      <th>LONGITUDE_CIRCLE_IMAGE</th>\n",
       "      <th>DIAM_CIRCLE_IMAGE</th>\n",
       "      <th>DEPTH_RIMFLOOR_TOPOG</th>\n",
       "      <th>MORPHOLOGY_EJECTA_1</th>\n",
       "      <th>MORPHOLOGY_EJECTA_2</th>\n",
       "      <th>MORPHOLOGY_EJECTA_3</th>\n",
       "      <th>NUMBER_LAYERS</th>\n",
       "    </tr>\n",
       "  </thead>\n",
       "  <tbody>\n",
       "    <tr>\n",
       "      <th>0</th>\n",
       "      <td>01-000000</td>\n",
       "      <td></td>\n",
       "      <td>84.367</td>\n",
       "      <td>108.746</td>\n",
       "      <td>82.10</td>\n",
       "      <td>0.22</td>\n",
       "      <td></td>\n",
       "      <td></td>\n",
       "      <td></td>\n",
       "      <td>0</td>\n",
       "    </tr>\n",
       "    <tr>\n",
       "      <th>1</th>\n",
       "      <td>01-000001</td>\n",
       "      <td>Korolev</td>\n",
       "      <td>72.760</td>\n",
       "      <td>164.464</td>\n",
       "      <td>82.02</td>\n",
       "      <td>1.97</td>\n",
       "      <td>Rd/MLERS</td>\n",
       "      <td>HuBL</td>\n",
       "      <td></td>\n",
       "      <td>3</td>\n",
       "    </tr>\n",
       "    <tr>\n",
       "      <th>2</th>\n",
       "      <td>01-000002</td>\n",
       "      <td></td>\n",
       "      <td>69.244</td>\n",
       "      <td>-27.240</td>\n",
       "      <td>79.63</td>\n",
       "      <td>0.09</td>\n",
       "      <td></td>\n",
       "      <td></td>\n",
       "      <td></td>\n",
       "      <td>0</td>\n",
       "    </tr>\n",
       "    <tr>\n",
       "      <th>3</th>\n",
       "      <td>01-000003</td>\n",
       "      <td></td>\n",
       "      <td>70.107</td>\n",
       "      <td>160.575</td>\n",
       "      <td>74.81</td>\n",
       "      <td>0.13</td>\n",
       "      <td></td>\n",
       "      <td></td>\n",
       "      <td></td>\n",
       "      <td>0</td>\n",
       "    </tr>\n",
       "    <tr>\n",
       "      <th>4</th>\n",
       "      <td>01-000004</td>\n",
       "      <td></td>\n",
       "      <td>77.996</td>\n",
       "      <td>95.617</td>\n",
       "      <td>73.53</td>\n",
       "      <td>0.11</td>\n",
       "      <td></td>\n",
       "      <td></td>\n",
       "      <td></td>\n",
       "      <td>0</td>\n",
       "    </tr>\n",
       "  </tbody>\n",
       "</table>\n",
       "</div>"
      ],
      "text/plain": [
       "   CRATER_ID CRATER_NAME  LATITUDE_CIRCLE_IMAGE  LONGITUDE_CIRCLE_IMAGE  \\\n",
       "0  01-000000                             84.367                 108.746   \n",
       "1  01-000001     Korolev                 72.760                 164.464   \n",
       "2  01-000002                             69.244                 -27.240   \n",
       "3  01-000003                             70.107                 160.575   \n",
       "4  01-000004                             77.996                  95.617   \n",
       "\n",
       "   DIAM_CIRCLE_IMAGE  DEPTH_RIMFLOOR_TOPOG MORPHOLOGY_EJECTA_1  \\\n",
       "0              82.10                  0.22                       \n",
       "1              82.02                  1.97            Rd/MLERS   \n",
       "2              79.63                  0.09                       \n",
       "3              74.81                  0.13                       \n",
       "4              73.53                  0.11                       \n",
       "\n",
       "  MORPHOLOGY_EJECTA_2 MORPHOLOGY_EJECTA_3  NUMBER_LAYERS  \n",
       "0                                                      0  \n",
       "1                HuBL                                  3  \n",
       "2                                                      0  \n",
       "3                                                      0  \n",
       "4                                                      0  "
      ]
     },
     "execution_count": 1,
     "metadata": {},
     "output_type": "execute_result"
    }
   ],
   "source": [
    "import pandas as pd\n",
    "\n",
    "Mars_df = pd.read_csv('MarsCrater.csv')\n",
    "Mars_df.head()"
   ]
  },
  {
   "cell_type": "markdown",
   "metadata": {},
   "source": [
    "So, we will predict depth of crators. This is a target. And diameters of craters will be our main explanotary variable. Then we append other explanotary variables and will compare the results of models."
   ]
  },
  {
   "cell_type": "code",
   "execution_count": 6,
   "metadata": {},
   "outputs": [],
   "source": [
    "diam = Mars_df['DIAM_CIRCLE_IMAGE'].to_numpy().reshape(-1, 1)\n",
    "latitude = Mars_df['LATITUDE_CIRCLE_IMAGE'].to_numpy().reshape(-1, 1)\n",
    "longitude = Mars_df['LONGITUDE_CIRCLE_IMAGE'].to_numpy().reshape(-1, 1)\n",
    "layers = Mars_df['NUMBER_LAYERS'].to_numpy().reshape(-1, 1)\n",
    "depth = Mars_df['DEPTH_RIMFLOOR_TOPOG'].values"
   ]
  },
  {
   "cell_type": "markdown",
   "metadata": {},
   "source": [
    "We can center all of variables with sklearn:"
   ]
  },
  {
   "cell_type": "code",
   "execution_count": 3,
   "metadata": {},
   "outputs": [],
   "source": [
    "from sklearn import preprocessing\n",
    "scaler = preprocessing.StandardScaler().fit(diam)\n",
    "diam = scaler.transform(diam)\n",
    "\n",
    "scaler = preprocessing.StandardScaler().fit(latitude)\n",
    "latitude = scaler.transform(latitude)\n",
    "\n",
    "scaler = preprocessing.StandardScaler().fit(longitude)\n",
    "longitude = scaler.transform(longitude)\n",
    "\n",
    "scaler = preprocessing.StandardScaler().fit(layers)\n",
    "layers = scaler.transform(layers)"
   ]
  },
  {
   "cell_type": "code",
   "execution_count": 8,
   "metadata": {},
   "outputs": [
    {
     "name": "stderr",
     "output_type": "stream",
     "text": [
      "C:\\Users\\M\\Anaconda3\\lib\\site-packages\\statsmodels\\tools\\_testing.py:19: FutureWarning: pandas.util.testing is deprecated. Use the functions in the public API at pandas.testing instead.\n",
      "  import pandas.util.testing as tm\n"
     ]
    }
   ],
   "source": [
    "import statsmodels.formula.api as smf"
   ]
  },
  {
   "cell_type": "code",
   "execution_count": 15,
   "metadata": {
    "scrolled": true
   },
   "outputs": [
    {
     "name": "stdout",
     "output_type": "stream",
     "text": [
      "                            OLS Regression Results                            \n",
      "==============================================================================\n",
      "Dep. Variable:                  depth   R-squared:                       0.350\n",
      "Model:                            OLS   Adj. R-squared:                  0.350\n",
      "Method:                 Least Squares   F-statistic:                 5.183e+04\n",
      "Date:                Sun, 28 Mar 2021   Prob (F-statistic):               0.00\n",
      "Time:                        14:58:39   Log-Likelihood:             1.1685e+05\n",
      "No. Observations:              384343   AIC:                        -2.337e+05\n",
      "Df Residuals:                  384338   BIC:                        -2.336e+05\n",
      "Df Model:                           4                                         \n",
      "Covariance Type:            nonrobust                                         \n",
      "==============================================================================\n",
      "                 coef    std err          t      P>|t|      [0.025      0.975]\n",
      "------------------------------------------------------------------------------\n",
      "Intercept     -0.0992      0.002    -48.041      0.000      -0.103      -0.095\n",
      "diam           0.0151   3.36e-05    450.061      0.000       0.015       0.015\n",
      "layers ^ 2     0.0596      0.001     59.048      0.000       0.058       0.062\n",
      "latitude    -5.81e-05    8.6e-06     -6.754      0.000    -7.5e-05   -4.12e-05\n",
      "longitude   3.595e-05   2.99e-06     12.039      0.000    3.01e-05    4.18e-05\n",
      "==============================================================================\n",
      "Omnibus:                   390622.393   Durbin-Watson:                   1.294\n",
      "Prob(Omnibus):                  0.000   Jarque-Bera (JB):       4223141254.525\n",
      "Skew:                          -3.505   Prob(JB):                         0.00\n",
      "Kurtosis:                     516.480   Cond. No.                         775.\n",
      "==============================================================================\n",
      "\n",
      "Warnings:\n",
      "[1] Standard Errors assume that the covariance matrix of the errors is correctly specified.\n"
     ]
    }
   ],
   "source": [
    "results = smf.ols('depth ~ diam + layers^2 + latitude + longitude', data=Mars_df).fit()\n",
    "print(results.summary())"
   ]
  },
  {
   "cell_type": "markdown",
   "metadata": {},
   "source": [
    "So, R^2  has not changed too much. But now we take into account the other factors. All of the explanatory variables have P-value lower than 0.005. It means that they have a connection to response variable. Diameters and number of layers have positive correlation with depth, and latitude and longitude have some nrgative correlations.\n",
    "\n",
    "And our dataset does not have enough variables: only depth, diameter and layers are sutable ones. Yes, we use also latitude and longitude, biut it is not very meaningful."
   ]
  },
  {
   "cell_type": "code",
   "execution_count": 19,
   "metadata": {},
   "outputs": [],
   "source": [
    "import statsmodels.api as sm"
   ]
  },
  {
   "cell_type": "code",
   "execution_count": 20,
   "metadata": {},
   "outputs": [
    {
     "data": {
      "image/png": "[encoded data removed]",
      "text/plain": [
       "<Figure size 432x288 with 1 Axes>"
      ]
     },
     "execution_count": 20,
     "metadata": {},
     "output_type": "execute_result"
    },
    {
     "data": {
      "image/png": "[encoded data removed]",
      "text/plain": [
       "<Figure size 432x288 with 1 Axes>"
      ]
     },
     "metadata": {
      "needs_background": "light"
     },
     "output_type": "display_data"
    }
   ],
   "source": [
    "sm.qqplot(results.resid, line='r')"
   ]
  },
  {
   "cell_type": "markdown",
   "metadata": {},
   "source": [
    "Quantiles don't look very good. But the model is simple, and the dataset is large."
   ]
  },
  {
   "cell_type": "code",
   "execution_count": 24,
   "metadata": {},
   "outputs": [
    {
     "data": {
      "text/plain": [
       "Text(0.5, 0, 'Observation Number')"
      ]
     },
     "execution_count": 24,
     "metadata": {},
     "output_type": "execute_result"
    },
    {
     "data": {
      "image/png": "[encoded data removed]",
      "text/plain": [
       "<Figure size 432x288 with 1 Axes>"
      ]
     },
     "metadata": {
      "needs_background": "light"
     },
     "output_type": "display_data"
    }
   ],
   "source": [
    "import matplotlib.pyplot as plt\n",
    "stdres=pd.DataFrame(results.resid_pearson)\n",
    "plt.plot(stdres, 'o', ls='None')\n",
    "l = plt.axhline(y=0, color='r')\n",
    "plt.ylabel('Standardized Residual')\n",
    "plt.xlabel('Observation Number')"
   ]
  },
  {
   "cell_type": "markdown",
   "metadata": {},
   "source": [
    "It also is not very good. But we have about 40.000 craters, some features and very-very-very simple model. I mean, in tis case we should not expect high results of model."
   ]
  },
  {
   "cell_type": "code",
   "execution_count": null,
   "metadata": {},
   "outputs": [],
   "source": [
    "# leverage plot\n",
    "fig3=sm.graphics.influence_plot(results, size=8)\n",
    "print(fig3)"
   ]
  }
 ],
 "metadata": {
  "kernelspec": {
   "display_name": "Python 3",
   "language": "python",
   "name": "python3"
  },
  "language_info": {
   "codemirror_mode": {
    "name": "ipython",
    "version": 3
   },
   "file_extension": ".py",
   "mimetype": "text/x-python",
   "name": "python",
   "nbconvert_exporter": "python",
   "pygments_lexer": "ipython3",
   "version": "3.7.4"
  }
 },
 "nbformat": 4,
 "nbformat_minor": 2
}
